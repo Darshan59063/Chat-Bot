{
  "cells": [
    {
      "cell_type": "markdown",
      "metadata": {
        "id": "view-in-github",
        "colab_type": "text"
      },
      "source": [
        "<a href=\"https://colab.research.google.com/github/Darshan59063/Chat-Bot/blob/main/Copy_of_Xray.ipynb\" target=\"_parent\"><img src=\"https://colab.research.google.com/assets/colab-badge.svg\" alt=\"Open In Colab\"/></a>"
      ]
    },
    {
      "cell_type": "code",
      "execution_count": null,
      "metadata": {
        "colab": {
          "base_uri": "https://localhost:8080/"
        },
        "id": "J2AniCG1LOZ0",
        "outputId": "953db251-a1be-4550-b38b-4c8cee6a5319"
      },
      "outputs": [
        {
          "name": "stdout",
          "output_type": "stream",
          "text": [
            "Drive already mounted at /content/drive; to attempt to forcibly remount, call drive.mount(\"/content/drive\", force_remount=True).\n"
          ]
        }
      ],
      "source": [
        "from google.colab import drive\n",
        "drive.mount('/content/drive')"
      ]
    },
    {
      "cell_type": "code",
      "execution_count": null,
      "metadata": {
        "id": "D-GH6zV0LrEG"
      },
      "outputs": [],
      "source": [
        "import os"
      ]
    },
    {
      "cell_type": "code",
      "execution_count": null,
      "metadata": {
        "id": "JgdL6qWIqS_Y"
      },
      "outputs": [],
      "source": [
        "base_dir = '/content/drive/MyDrive/Chest_xray '\n",
        "train_dir = os.path.join(base_dir, 'train')\n",
        "validation_dir = os.path.join(base_dir, 'val')\n",
        "test_dir = os.path.join(base_dir, 'test')\n",
        "\n",
        "\n",
        "# Directory with our training cat pictures\n",
        "train_nor_dir = os.path.join(train_dir, 'NORMAL')\n",
        "\n",
        "# Directory with our training dog pictures\n",
        "train_pne_dir = os.path.join(train_dir, 'PNEUMONIA')\n",
        "\n",
        "# Directory with our Testing cat pictures\n",
        "Testing_nor_dir = os.path.join(validation_dir, 'NORMAL')\n",
        "\n",
        "# Directory with our Testing dog pictures\n",
        "Testing_pne_dir = os.path.join(validation_dir, 'PNEUMONIA')\n",
        "\n",
        "\n",
        "Test_nor_dir = os.path.join(test_dir, 'NORMAL')\n",
        "\n",
        "# Directory with our Testing dog pictures\n",
        "Test_pne_dir = os.path.join(test_dir, 'PNEUMONIA')\n"
      ]
    },
    {
      "cell_type": "code",
      "execution_count": null,
      "metadata": {
        "colab": {
          "base_uri": "https://localhost:8080/"
        },
        "id": "4sHj_7w2rNbB",
        "outputId": "0ad1ee07-b532-4be6-b912-65234752df85"
      },
      "outputs": [
        {
          "name": "stdout",
          "output_type": "stream",
          "text": [
            "total training cat images: 1341\n",
            "total training dog images: 3875\n",
            "total Testing cat images: 8\n",
            "total Testing dog images: 8\n",
            "total Testing cat images: 234\n",
            "total Testing dog images: 390\n"
          ]
        }
      ],
      "source": [
        "print('total training cat images:', len(os.listdir(train_nor_dir)))\n",
        "print('total training dog images:', len(os.listdir(train_pne_dir )))\n",
        "print('total Testing cat images:', len(os.listdir(Testing_nor_dir)))\n",
        "print('total Testing dog images:', len(os.listdir(Testing_pne_dir)))\n",
        "print('total Testing cat images:', len(os.listdir(Test_nor_dir)))\n",
        "print('total Testing dog images:', len(os.listdir(Test_pne_dir)))\n",
        "\n",
        "X_train = len(os.listdir(train_dir))\n",
        "X_val = len(os.listdir(validation_dir))"
      ]
    },
    {
      "cell_type": "code",
      "execution_count": null,
      "metadata": {
        "id": "qsegSJ2jrQpX"
      },
      "outputs": [],
      "source": [
        "from keras import layers\n",
        "from keras import Model\n",
        "\n",
        "img_input = layers.Input(shape=(150, 150, 3))\n",
        "x = layers.Conv2D(16, 3, activation='relu')(img_input)\n",
        "x = layers.MaxPooling2D(2)(x)\n",
        "\n",
        "\n",
        "x = layers.Conv2D(32, 3, activation='relu')(x)\n",
        "x = layers.MaxPooling2D(2)(x)\n",
        "\n",
        "\n",
        "x = layers.Conv2D(64, 3, activation='relu')(x)\n",
        "x = layers.MaxPooling2D(2)(x)\n",
        "\n",
        "\n",
        "x = layers.Flatten()(x)\n",
        "\n",
        "x = layers.Dense(512, activation='relu')(x)\n",
        "\n",
        "output = layers.Dense(1, activation='sigmoid')(x)\n",
        "\n",
        "# Create model:\n",
        "# input = input feature map\n",
        "# output = input feature map + stacked convolution/maxpooling layers + fully \n",
        "# connected layer + sigmoid output layer\n",
        "model = Model(img_input, output)\n",
        "\n",
        "\n",
        "\n",
        "\n",
        "from keras.optimizers import RMSprop\n",
        "\n",
        "model.compile(loss='binary_crossentropy',\n",
        "              optimizer=RMSprop(learning_rate=0.001),\n",
        "              metrics=['acc'])\n"
      ]
    },
    {
      "cell_type": "code",
      "execution_count": null,
      "metadata": {
        "colab": {
          "base_uri": "https://localhost:8080/"
        },
        "id": "50fRWfqsr6xp",
        "outputId": "08e8cf33-fbf2-4880-fd58-d6e496e4c051"
      },
      "outputs": [
        {
          "name": "stdout",
          "output_type": "stream",
          "text": [
            "Model: \"model\"\n",
            "_________________________________________________________________\n",
            " Layer (type)                Output Shape              Param #   \n",
            "=================================================================\n",
            " input_1 (InputLayer)        [(None, 150, 150, 3)]     0         \n",
            "                                                                 \n",
            " conv2d (Conv2D)             (None, 148, 148, 16)      448       \n",
            "                                                                 \n",
            " max_pooling2d (MaxPooling2D  (None, 74, 74, 16)       0         \n",
            " )                                                               \n",
            "                                                                 \n",
            " conv2d_1 (Conv2D)           (None, 72, 72, 32)        4640      \n",
            "                                                                 \n",
            " max_pooling2d_1 (MaxPooling  (None, 36, 36, 32)       0         \n",
            " 2D)                                                             \n",
            "                                                                 \n",
            " conv2d_2 (Conv2D)           (None, 34, 34, 64)        18496     \n",
            "                                                                 \n",
            " max_pooling2d_2 (MaxPooling  (None, 17, 17, 64)       0         \n",
            " 2D)                                                             \n",
            "                                                                 \n",
            " flatten (Flatten)           (None, 18496)             0         \n",
            "                                                                 \n",
            " dense (Dense)               (None, 512)               9470464   \n",
            "                                                                 \n",
            " dense_1 (Dense)             (None, 1)                 513       \n",
            "                                                                 \n",
            "=================================================================\n",
            "Total params: 9,494,561\n",
            "Trainable params: 9,494,561\n",
            "Non-trainable params: 0\n",
            "_________________________________________________________________\n"
          ]
        }
      ],
      "source": [
        "model.summary()"
      ]
    },
    {
      "cell_type": "code",
      "execution_count": null,
      "metadata": {
        "colab": {
          "base_uri": "https://localhost:8080/"
        },
        "id": "VasLi_qpsUmV",
        "outputId": "a9ea4cda-590b-4374-805a-f66a8ffcafce"
      },
      "outputs": [
        {
          "name": "stdout",
          "output_type": "stream",
          "text": [
            "Found 5216 images belonging to 2 classes.\n",
            "Found 16 images belonging to 2 classes.\n",
            "Found 624 images belonging to 2 classes.\n"
          ]
        }
      ],
      "source": [
        "from keras.preprocessing.image import ImageDataGenerator\n",
        "\n",
        "# All images will be rescaled by 1./255\n",
        "train_datagen = ImageDataGenerator(rescale=1./255)\n",
        "val_datagen = ImageDataGenerator(rescale=1./255)\n",
        "test_datagen = ImageDataGenerator(rescale=1./255)\n",
        "\n",
        "# Flow training images in batches of 20 using train_datagen generator\n",
        "train_generator = train_datagen.flow_from_directory(\n",
        "        train_dir,  # This is the source directory for training images\n",
        "        target_size=(150, 150),  # All images will be resized to 150x150\n",
        "        batch_size=32,\n",
        "        # Since we use binary_crossentropy loss, we need binary labels\n",
        "        class_mode='binary')\n",
        "\n",
        "# Flow validation images in batches of 20 using val_datagen generator\n",
        "validation_generator = val_datagen.flow_from_directory(\n",
        "        validation_dir,\n",
        "        target_size=(150, 150),\n",
        "        batch_size=20,\n",
        "        class_mode='binary')\n",
        "\n",
        "\n",
        "# Flow validation images in batches of 20 using val_datagen generator\n",
        "test_generator = test_datagen.flow_from_directory(\n",
        "        test_dir,\n",
        "        target_size=(150, 150),  # All images will be resized to 150x150\n",
        "        class_mode='binary')\n"
      ]
    },
    {
      "cell_type": "code",
      "execution_count": null,
      "metadata": {
        "colab": {
          "background_save": true,
          "base_uri": "https://localhost:8080/"
        },
        "id": "4QHX-U2BspS0",
        "outputId": "c46cc2f1-4596-41a5-adb4-1ad94c9ecb53"
      },
      "outputs": [
        {
          "name": "stdout",
          "output_type": "stream",
          "text": [
            "Epoch 1/15\n",
            "163/163 - 1400s - loss: 0.2173 - acc: 0.9197 - val_loss: 0.2068 - val_acc: 0.9375 - 1400s/epoch - 9s/step\n",
            "Epoch 2/15\n",
            "163/163 - 170s - loss: 0.1370 - acc: 0.9515 - val_loss: 0.1886 - val_acc: 0.8750 - 170s/epoch - 1s/step\n",
            "Epoch 3/15\n",
            "163/163 - 168s - loss: 0.1101 - acc: 0.9661 - val_loss: 0.5934 - val_acc: 0.8125 - 168s/epoch - 1s/step\n",
            "Epoch 4/15\n",
            "163/163 - 173s - loss: 0.0823 - acc: 0.9730 - val_loss: 0.2010 - val_acc: 0.8750 - 173s/epoch - 1s/step\n",
            "Epoch 5/15\n",
            "163/163 - 169s - loss: 0.0611 - acc: 0.9789 - val_loss: 0.5808 - val_acc: 0.8125 - 169s/epoch - 1s/step\n",
            "Epoch 6/15\n",
            "163/163 - 168s - loss: 0.0464 - acc: 0.9831 - val_loss: 0.0802 - val_acc: 0.9375 - 168s/epoch - 1s/step\n",
            "Epoch 7/15\n",
            "163/163 - 173s - loss: 0.0414 - acc: 0.9858 - val_loss: 0.1219 - val_acc: 0.9375 - 173s/epoch - 1s/step\n",
            "Epoch 8/15\n",
            "163/163 - 168s - loss: 0.0383 - acc: 0.9887 - val_loss: 0.4084 - val_acc: 0.8125 - 168s/epoch - 1s/step\n",
            "Epoch 9/15\n",
            "163/163 - 170s - loss: 0.0226 - acc: 0.9906 - val_loss: 0.0459 - val_acc: 1.0000 - 170s/epoch - 1s/step\n",
            "Epoch 10/15\n",
            "163/163 - 169s - loss: 0.0205 - acc: 0.9918 - val_loss: 0.0757 - val_acc: 0.9375 - 169s/epoch - 1s/step\n",
            "Epoch 11/15\n",
            "163/163 - 167s - loss: 0.0162 - acc: 0.9942 - val_loss: 1.4623 - val_acc: 0.6875 - 167s/epoch - 1s/step\n",
            "Epoch 12/15\n",
            "163/163 - 174s - loss: 0.0237 - acc: 0.9948 - val_loss: 0.1115 - val_acc: 0.9375 - 174s/epoch - 1s/step\n",
            "Epoch 13/15\n",
            "163/163 - 169s - loss: 0.0089 - acc: 0.9971 - val_loss: 0.2444 - val_acc: 0.9375 - 169s/epoch - 1s/step\n",
            "Epoch 14/15\n",
            "163/163 - 167s - loss: 0.0185 - acc: 0.9960 - val_loss: 0.3435 - val_acc: 0.9375 - 167s/epoch - 1s/step\n",
            "Epoch 15/15\n",
            "163/163 - 172s - loss: 0.0151 - acc: 0.9962 - val_loss: 0.1800 - val_acc: 0.9375 - 172s/epoch - 1s/step\n"
          ]
        }
      ],
      "source": [
        "history = model.fit(\n",
        "      train_generator,\n",
        "      steps_per_epoch = 163,  # 5216 images = 32 * steps\n",
        "      epochs=15,\n",
        "      validation_data=validation_generator,\n",
        "      validation_steps = 1, # 16 images = 20 * steps\n",
        "      verbose=2)\n"
      ]
    },
    {
      "cell_type": "code",
      "execution_count": null,
      "metadata": {
        "id": "3ux7LcQQyHA8"
      },
      "outputs": [],
      "source": [
        "model.evaluate( test_generator, batch_size=20, verbose=2 )"
      ]
    },
    {
      "cell_type": "code",
      "execution_count": null,
      "metadata": {
        "id": "nhCPpQaH87Wx"
      },
      "outputs": [],
      "source": []
    }
  ],
  "metadata": {
    "colab": {
      "provenance": [],
      "mount_file_id": "1Pmh-1wS2wbkaNdqjnpUKrMjwkQdxpWJs",
      "authorship_tag": "ABX9TyNPUp6zwJcVVM1b3oapyL6s",
      "include_colab_link": true
    },
    "kernelspec": {
      "display_name": "Python 3",
      "name": "python3"
    },
    "language_info": {
      "name": "python"
    }
  },
  "nbformat": 4,
  "nbformat_minor": 0
}